{
  "nbformat": 4,
  "nbformat_minor": 0,
  "metadata": {
    "colab": {
      "provenance": []
    },
    "kernelspec": {
      "name": "python3",
      "display_name": "Python 3"
    },
    "language_info": {
      "name": "python"
    }
  },
  "cells": [
    {
      "cell_type": "markdown",
      "source": [
        "## Cuaderno para ejecutar telegram-tracker-t-hoarder_tg"
      ],
      "metadata": {
        "id": "p6UGRasC_izo"
      }
    },
    {
      "cell_type": "markdown",
      "source": [
        "### Montamos nuestro drive en Colab"
      ],
      "metadata": {
        "id": "dMDlU9sM_FN6"
      }
    },
    {
      "cell_type": "code",
      "source": [
        "from google.colab import drive\n",
        "drive.mount('/content/drive')"
      ],
      "metadata": {
        "id": "irqspLY4j1oU",
        "colab": {
          "base_uri": "https://localhost:8080/"
        },
        "outputId": "74d11cb7-9cde-4142-bd8d-553c53048e94"
      },
      "execution_count": null,
      "outputs": [
        {
          "output_type": "stream",
          "name": "stdout",
          "text": [
            "Mounted at /content/drive\n"
          ]
        }
      ]
    },
    {
      "cell_type": "markdown",
      "source": [
        "### Instalamos telethon"
      ],
      "metadata": {
        "id": "nRACYkvh_yxs"
      }
    },
    {
      "cell_type": "code",
      "source": [
        "!python3 -m pip install --upgrade telethon\n",
        "!"
      ],
      "metadata": {
        "id": "pncTkn5WyZWk"
      },
      "execution_count": null,
      "outputs": []
    },
    {
      "cell_type": "markdown",
      "source": [
        "### Ejecutamos el script principal de telegram-tracket\n",
        "\n",
        "\n",
        "\n",
        "```\n",
        "usage: main.py\n",
        "       [-h]\n",
        "       --telegram-channel\n",
        "       TELEGRAM_CHANNEL\n",
        "       [--max-msgs MAX_MSGS]\n",
        "       [--limit-download-to-channel-metadata]\n",
        "       [--output OUTPUT]\n",
        "\n",
        "\n",
        "Opciones:\n",
        " --telegram-channel  para descargar un canal\n",
        " --max-msgs Máximo número de mensajes descargados de un canal (de más recientes a más antiguos). Por defecto todos\n",
        " --limit-download-to-channel-metadata bajar solo los metadatos del canal (sin mensajes)\n",
        " --output directorio donde descargar los datos\n",
        "```\n",
        "\n"
      ],
      "metadata": {
        "id": "pacE3T7u_579"
      }
    },
    {
      "cell_type": "markdown",
      "source": [
        "### Extraer un canal\n",
        "\n",
        "Será la raiz de la búsqueda por bola de nieve\n"
      ],
      "metadata": {
        "id": "a2Qow2nTdcj3"
      }
    },
    {
      "cell_type": "code",
      "source": [
        "import os\n",
        "# Establecer el directorio de trabajo\n",
        "os.chdir(\"/content/drive/MyDrive/telegram-tracker-t-hoarder_tg-main\")\n",
        "'''\n",
        "!!!!!!!  Poner nombre del canal raiz!!!!!!\n",
        "'''\n",
        "root_channel = 'xxxxxxxxxx'\n",
        "'''\n",
        "'''\n",
        "path_channel = f'./data/{root_channel}'\n",
        "print(f'Resultados en {path_channel}')\n",
        "print(f'Descargando canal {root_channel}')\n",
        "!python main.py --telegram-channel {root_channel} --output {path_channel}\n",
        "# Convertir json en csv y excel y ordenar de mensaje más reciente a más antiguo\n",
        "print(f'Construyendo el csv de mensajes de {root_channel}')\n",
        "!python build-dataset.py --telegram-channel {root_channel} --data-path  {path_channel}\n",
        "!head -1 {path_channel}/msgs_dataset.csv > {path_channel}/head_tmp.csv\n",
        "!tail -n +2  {path_channel}/msgs_dataset.csv | sort -n -r -t \",\" --key=4 -o {path_channel}/tail_tmp.csv\n",
        "!cat {path_channel}/head_tmp.csv {path_channel}/tail_tmp.csv | uniq > {path_channel}/msgs_dataset.csv\n",
        "!rm {path_channel}/*tmp.*"
      ],
      "metadata": {
        "id": "H5V8Wwg-wRc1"
      },
      "execution_count": null,
      "outputs": []
    },
    {
      "cell_type": "markdown",
      "source": [
        "\n",
        "### Dado un canal descargado, extraer canales relacionados por método bola de nieve\n",
        "\n",
        "Atención! El canal ha debido ser previamente extraido, ejecutando la anterior casilla\n"
      ],
      "metadata": {
        "id": "LfL_05EwkNJK"
      }
    },
    {
      "cell_type": "code",
      "source": [
        "import os\n",
        "import sys\n",
        "# Establecer el directorio de trabajo\n",
        "os.chdir(\"/content/drive/MyDrive/telegram-tracker-t-hoarder_tg-main\")\n",
        "'''\n",
        "!!!!!!!  Poner nombre del canal raiz!!!!!!\n",
        "'''\n",
        "root_channel = 'xxxxxxxx'\n",
        "'''\n",
        "'''\n",
        "path_channel = f'./data/{root_channel}'\n",
        "path_channel_n2 = f'./data/{root_channel}_n2'\n",
        "with open(f'{path_channel}/related_channels.csv', 'r') as inputfile:\n",
        "  channels = inputfile.readlines()\n",
        "  num_channels = len (channels)\n",
        "i = 0\n",
        "for channel in channels:\n",
        "  i = i + 1\n",
        "  channel = channel.strip('\\n') # quitar salto de línea\n",
        "  print(f'--------> downloading {channel} ({i} of {num_channels})')\n",
        "  !python main.py --telegram-channel {channel} --max-msgs 400000 --output {path_channel}_n2\n",
        "  # convertir json en csv y excel\n",
        "  !python build-dataset.py --telegram-channel {channel} --data-path  {path_channel}_n2\n"
      ],
      "metadata": {
        "id": "6mdSzW5OkRge"
      },
      "execution_count": null,
      "outputs": []
    },
    {
      "cell_type": "markdown",
      "source": [
        "\n",
        "### Dado un conjunto de canales buscar sus relaciones"
      ],
      "metadata": {
        "id": "nYW2buXGwJfM"
      }
    },
    {
      "cell_type": "code",
      "source": [
        "import os\n",
        "import csv\n",
        "# Establecer el directorio de trabajo\n",
        "os.chdir(\"/content/drive/MyDrive/telegram-tracker-t-hoarder_tg-main\")\n",
        "'''\n",
        "!!!!!!  Poner nombre del grupo de canales!!!!!!\n",
        "'''\n",
        "group = \"xxxxxxxx\"\n",
        "'''\n",
        "'''\n",
        "path_group = f'./data/{group}'\n",
        "if not os.path.exists(f'{path_group}/list_channels.csv'):\n",
        "  os.makedirs(path_group, exist_ok=True)\n",
        "  channels = input('Enter a comma separated list of channels:    ')\n",
        "  channels = channels.split (\",\")\n",
        "  with open(f'{path_group}/list_channels.csv', 'w') as csvfile:\n",
        "    writer = csv.writer(csvfile, delimiter=\"\\n\")\n",
        "    writer.writerow(channels)\n",
        "else:\n",
        "  with open(f'{path_group}/list_channels.csv', 'r') as inputfile:\n",
        "    channels = inputfile.readlines()\n",
        "\n",
        "for channel in channels:\n",
        "  channel = channel.strip('\\n') # quitar salto de línea\n",
        "  print(f'{channel}')\n",
        "  !python main.py --telegram-channel {channel} --max-msgs 4000000 --output {path_group}\n",
        "  # convertir json en csv y excel\n",
        "  !python build-dataset.py --telegram-channel {channel} --data-path  {path_group}\n"
      ],
      "metadata": {
        "id": "QZSWSxX6ypUs"
      },
      "execution_count": null,
      "outputs": []
    }
  ]
}